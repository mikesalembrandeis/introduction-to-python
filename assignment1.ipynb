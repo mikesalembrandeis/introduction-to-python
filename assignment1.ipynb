{
 "cells": [
  {
   "cell_type": "markdown",
   "id": "macro-panel",
   "metadata": {},
   "source": [
    "# Assignment 1\n",
    "----\n",
    "\n",
    "Name : `<Your name here>`\n",
    "    \n",
    "email :  `<Your email here> `"
   ]
  },
  {
   "cell_type": "markdown",
   "id": "diagnostic-gnome",
   "metadata": {},
   "source": [
    "# Instructions\n",
    "----\n",
    "\n",
    "The purpose of this assignment is for students to get familiar with Jupyter Notebooks and writing code in Python. Each question is explicitly asked within the cell. Students should follow the instructions listed in the cell. Student's solutions will be tested with with a reserved dataset for each question.  \n",
    "\n",
    "You are **not** allowed to rename any functions or modify the number of input parameters. **Failure to follow instructions will result in a 0 for the question.**"
   ]
  },
  {
   "cell_type": "markdown",
   "id": "classified-paint",
   "metadata": {},
   "source": [
    "# Rubric\n",
    "----\n",
    "\n",
    "The point value for each question is explicitly listed along with the breakdown for how each question is graded. "
   ]
  },
  {
   "source": [
    "### Question 1\n",
    "\n",
    "Write a function named `sum_numbers` that takes as its parameters two lists and returns a numeric value. \n",
    "\n",
    "**Evaluation** (3 pts)\n",
    "\n",
    "Your function should:\n",
    "- [ ] Sum two lists of the same size \n",
    "- [ ] Sum two lists of different sizes"
   ],
   "cell_type": "markdown",
   "metadata": {}
  },
  {
   "cell_type": "code",
   "execution_count": null,
   "id": "flush-error",
   "metadata": {},
   "outputs": [],
   "source": [
    "def sum_numbers(list_1: list, list_2: list) -> float:\n",
    "    \"Takes two lists of numeric values - can be of different size. Returns the sum.\"\n"
   ]
  },
  {
   "source": [
    "### Question 2\n",
    "\n",
    "Write a function named `reverse_string` that takes as its parameter a string and returns the reversed string. \n",
    "\n",
    "**Evaluation** (2 pts)\n",
    "\n",
    "Your function should:\n",
    "- [ ] returns the correct object type (1 pt)\n",
    "- [ ] reverse the entire string (e.g. \"i ran\" -> \"nar i\") (4pts)\n",
    "- [ ] preserve the character casing and puncuation (e.g. \"Brandeis!\" -> \"!siednarB\") (4 pts)"
   ],
   "cell_type": "markdown",
   "metadata": {}
  },
  {
   "cell_type": "code",
   "execution_count": null,
   "id": "municipal-aircraft",
   "metadata": {},
   "outputs": [],
   "source": [
    "def reverse_string(s : str) -> str:\n",
    "    \"Reverses the string\"\n"
   ]
  },
  {
   "source": [
    "### Question 3\n",
    "\n",
    "Write a function named `word_frequency` that takes as its parameter a string and returns a dictionary containing  (lowercase) words and their counts. You may disregard any puncuation next to words (e.g. \"hello!\") the tests will not test for puncuation.\n",
    "\n",
    "**Evaluation** (3 pts)\n",
    "\n",
    "Your function should:\n",
    "\n",
    "- [ ] return the correct type \n",
    "- [ ] correctly removes leading/trailing space \n",
    "- [ ] correctly handle upper / lowercase words \n",
    "- [ ] correctly ouptuts the correct word counts "
   ],
   "cell_type": "markdown",
   "metadata": {}
  },
  {
   "cell_type": "code",
   "execution_count": null,
   "id": "acting-example",
   "metadata": {},
   "outputs": [],
   "source": [
    "def  word_frequency(s):\n",
    "    \"Counts unique words and returns words and count as dictionary. Words are **not** case sensitive\"\n"
   ]
  },
  {
   "source": [
    "### Question 4\n",
    "\n",
    "Write a function named `remove_strings` that takes as its parameter a list and returns a list containing only integers and floats. The list will only contain ints, floats, and strings (no other datatypes)\n",
    "\n",
    "**Evaluation** (3 pts)\n",
    "\n",
    "Your function should:\n",
    "\n",
    "- [ ] return the correct type \n",
    "- [ ] remove any values not integers or floats from the list\n",
    "- [ ] preserve the same order"
   ],
   "cell_type": "markdown",
   "metadata": {}
  },
  {
   "cell_type": "code",
   "execution_count": null,
   "metadata": {},
   "outputs": [],
   "source": [
    "def remove_strings(num_list: list) -> list:\n",
    "    \"Returns a list containing only numeric values\"\n"
   ]
  },
  {
   "source": [
    "### Question 5\n",
    "\n",
    "Write a function named `num_to_str` that takes as its parameter a float and returns a string\n",
    "\n",
    "**Evaluation** (3 pts)\n",
    "\n",
    "Your function should:\n",
    "\n",
    "- [ ] return the correct type \n",
    "- [ ] return the correct value"
   ],
   "cell_type": "markdown",
   "metadata": {}
  },
  {
   "cell_type": "code",
   "execution_count": null,
   "metadata": {},
   "outputs": [],
   "source": [
    "def num_to_str(val : float) -> str:\n",
    "    \"Takes a number and converts it to a string\"\n"
   ]
  },
  {
   "source": [
    "### Question 6\n",
    "\n",
    "Write a function named `str_to_int` that takes as its parameter a str and returns an int. The integer value you return should be the floor value. Do **not** use the `floor` command.\n",
    "\n",
    "**Evaluation** (3 pts)\n",
    "\n",
    "Your function should:\n",
    "\n",
    "- [ ] return the correct type\n",
    "- [ ] return the correct value"
   ],
   "cell_type": "markdown",
   "metadata": {}
  },
  {
   "cell_type": "code",
   "execution_count": null,
   "metadata": {},
   "outputs": [],
   "source": [
    "def str_to_int(val: str) -> int:\n",
    "    \"Takes an integer or float value written as a string and converts it to an integer\"\n"
   ]
  },
  {
   "source": [
    "### Question 7\n",
    "\n",
    "Write a function named `remove_letters` that takes as its parameters a str and a list of characters (e.g. ['a', 'b']) and returns returns a str\n",
    "\n",
    "**Evaluation**\n",
    "\n",
    "Your function should: (3 pts)\n",
    "\n",
    "- [ ] return the correct type \n",
    "- [ ] return a string with the characters removed (case sensitive)"
   ],
   "cell_type": "markdown",
   "metadata": {}
  },
  {
   "cell_type": "code",
   "execution_count": null,
   "metadata": {},
   "outputs": [],
   "source": [
    "def remove_letters(s : str, remove_chars: list) -> str:\n",
    "    \"removes the specified character\"\n"
   ]
  },
  {
   "source": [
    "### Question 8\n",
    "\n",
    "Write a function named `round_val` that takes as its parameters a float and returns an int. A value of 5 in the tenths position should be rounded __up__.\n",
    "\n",
    "**Evaluation** (4 pts)\n",
    "\n",
    "Your function should:\n",
    "\n",
    "\n",
    "- [ ] return the correct type \n",
    "- [ ] does **not** use any functions to handle rounding\n",
    "- [ ] return a correctly rounded value"
   ],
   "cell_type": "markdown",
   "metadata": {}
  },
  {
   "cell_type": "code",
   "execution_count": null,
   "metadata": {},
   "outputs": [],
   "source": [
    "def round_val(val: float) -> int:\n",
    "    \"returns a rounded int without using any packages\"\n"
   ]
  },
  {
   "source": [
    "### Question 9\n",
    "\n",
    "Write a function named `get_slice` that takes as its parameters a list and a start and end index (end index is inclusive)\n",
    "\n",
    "**Evaluation** (3 pts)\n",
    "\n",
    "Your function should:\n",
    "\n",
    "\n",
    "- [ ] return the correct type\n",
    "- [ ] return a correctly sliced region value"
   ],
   "cell_type": "markdown",
   "metadata": {}
  },
  {
   "cell_type": "code",
   "execution_count": null,
   "metadata": {},
   "outputs": [],
   "source": [
    "def get_slice(list_obj: list, start: int, end: int) -> list:\n",
    "    \"get a slice of the list by index\"\n"
   ]
  },
  {
   "source": [
    "### Question 10\n",
    "\n",
    "Write a function named `find_common_words` that takes as its parameters two strings and returns a string of common words sorted alphabetically (spaces between words)\n",
    "\n",
    "**Evaluation** (2 pts)\n",
    "\n",
    "Your function should:\n",
    "\n",
    "\n",
    "- [ ] return the correct type \n",
    "- [ ] return a string of alphabetized common words (case sensitive) "
   ],
   "cell_type": "markdown",
   "metadata": {}
  },
  {
   "cell_type": "code",
   "execution_count": null,
   "metadata": {},
   "outputs": [],
   "source": [
    "def find_common_words(s1: str, s2: str) -> str:\n",
    "    \"finds common words between two strings \"\n"
   ]
  },
  {
   "source": [
    "### Question 11\n",
    "\n",
    "Write a function named `beepboop` that takes as its input an int and loops through all numbers from 1 to n and prints beep if it is divisable by 3, boop if divisible by 5 and beepboop if divisible by 3 and 5. If not divisible by 3 or 5 prints the value. \n",
    "\n",
    "E.g `beepboop(7) == '12beep4boopbeep'`\n",
    "\n",
    "**Evaluation** (2 pts)\n",
    "\n",
    "Your function should:\n",
    "\n",
    "- [ ] return the correct type \n",
    "- [ ] returns the correct sequence based on the input"
   ],
   "cell_type": "markdown",
   "metadata": {}
  },
  {
   "cell_type": "code",
   "execution_count": null,
   "metadata": {},
   "outputs": [],
   "source": [
    "def beepboop(n: int) -> str:\n",
    "    \"Takes a number and prints beep if it is divisable by 3, boop if divisible by 5 and beepboop if divisible by 3 and 5. If not divisible by 3 or 5 prints the value\"\n"
   ]
  },
  {
   "source": [
    "### Question 12\n",
    "\n",
    "Write a function named `get_beginning_of_month` that takes as its input a datetime object  and prints a string in YYYY-mm-dd format\n",
    "\n",
    "**Evaluation** (2 pts)\n",
    "\n",
    "Your function should:\n",
    "\n",
    "- [ ] return the correct type\n",
    "- [ ] returns the correct beginning of the month date"
   ],
   "cell_type": "markdown",
   "metadata": {}
  },
  {
   "cell_type": "code",
   "execution_count": null,
   "metadata": {},
   "outputs": [],
   "source": [
    "import datetime\n",
    "def get_beginning_of_month(date : datetime) -> str:\n",
    "    \"Takes a datetime value and converts it to a string in YYYY-mm-dd format\"\n"
   ]
  },
  {
   "source": [
    "### Question 13\n",
    "\n",
    "Write a `lambda` function named `lambda_func` that takes two parameters that are floats `a` and `b`  and returns a float from the equation $ a^b $. \n",
    "\n",
    "**Evaluation** (3 pts)\n",
    "\n",
    "Your function should:\n",
    "\n",
    "- [ ] return the correct type\n",
    "- [ ] returns the correct value"
   ],
   "cell_type": "markdown",
   "metadata": {}
  },
  {
   "cell_type": "code",
   "execution_count": null,
   "metadata": {},
   "outputs": [],
   "source": [
    "lambda_func = "
   ]
  },
  {
   "cell_type": "markdown",
   "metadata": {},
   "source": [
    "# Tests\n",
    "The following lines of the notebook should **not** be modified. You may chose to modify your local `tests.py` file to run any tests to ensure your functions above are behaving correctly. There will be a seperate file that is used to test when submitted. "
   ]
  },
  {
   "cell_type": "code",
   "execution_count": null,
   "metadata": {
    "tags": []
   },
   "outputs": [],
   "source": [
    "total_score = 0\n",
    "# Question 1\n",
    "q1_score = 0\n",
    "try:\n",
    "    assert(sum_numbers([1,2,3], [1,2,3]) == 12)\n",
    "    q1_score += 1    \n",
    "    total_score += 1\n",
    "except:\n",
    "    pass\n",
    "try:\n",
    "    assert(sum_numbers([1,2], [1,2,3]) == 9)\n",
    "    q1_score += 1    \n",
    "    total_score += 1\n",
    "except:\n",
    "    pass\n",
    "try:\n",
    "    assert(sum_numbers([1,2,3], [1,2]) == 9)\n",
    "    q1_score += 1    \n",
    "    total_score += 1\n",
    "except:\n",
    "    pass \n",
    "\n",
    "\n",
    "# Question 2\n",
    "q2_score = 0\n",
    "try:\n",
    "    assert(reverse_string(\"Rbot225 is my favorite course!\") =='!esruoc etirovaf ym si 522tobR')\n",
    "    q2_score += 1    \n",
    "    total_score += 1\n",
    "except:\n",
    "    pass\n",
    "try:\n",
    "    assert(reverse_string(\"Let's learn more about robots now!\") ==\"!won stobor tuoba erom nrael s'teL\")\n",
    "    q2_score += 1    \n",
    "    total_score += 1\n",
    "except:\n",
    "    pass\n",
    "\n",
    "\n",
    "# Question 3\n",
    "q3_score = 0\n",
    "try:\n",
    "    assert(word_frequency(\"Robots are our friends\") == {'robots': 1, 'are': 1, 'our': 1, 'friends': 1})\n",
    "    q3_score += 1    \n",
    "    total_score += 1\n",
    "except:\n",
    "    pass\n",
    "try:\n",
    "    assert(word_frequency(\"Robots are our friends \") == {'robots': 1, 'are': 1, 'our': 1, 'friends': 1})\n",
    "    q3_score += 1    \n",
    "    total_score += 1\n",
    "except:\n",
    "    pass\n",
    "try:\n",
    "    assert(word_frequency(\" Please please please recalibrate your servos\") == {'please': 3, 'recalibrate': 1, 'your': 1, 'servos': 1})\n",
    "    q3_score += 1    \n",
    "    total_score += 1\n",
    "except:\n",
    "    pass\n",
    "\n",
    "\n",
    "# Question 4\n",
    "q4_score = 0\n",
    "try:\n",
    "    assert(remove_strings([\"foo\", \"bar\"]) == [])\n",
    "    q4_score += 1    \n",
    "    total_score += 1\n",
    "except:\n",
    "    pass  \n",
    "try:\n",
    "    assert(remove_strings([1,-2,3E14, \"foo\", 4, 12.125, \"bar\"]) == [1, -2, 300000000000000.0, 4, 12.125])\n",
    "    q4_score += 1    \n",
    "    total_score += 1\n",
    "except:\n",
    "    pass    \n",
    "try:\n",
    "    assert(remove_strings([]) == [])\n",
    "    q4_score += 1    \n",
    "    total_score += 1\n",
    "except:\n",
    "    pass \n",
    "\n",
    "\n",
    "# Question 5\n",
    "q5_score = 0\n",
    "try:\n",
    "    assert(num_to_str(3.66) == \"3.66\")\n",
    "    q5_score += 1    \n",
    "    total_score += 1\n",
    "except:\n",
    "    pass   \n",
    "try:\n",
    "    assert(num_to_str(2**2) == \"4\")\n",
    "    q5_score += 1    \n",
    "    total_score += 1\n",
    "except:\n",
    "    pass  \n",
    "try:\n",
    "    assert(num_to_str(-9**0) == \"-1\")\n",
    "    q5_score += 1    \n",
    "    total_score += 1\n",
    "except:\n",
    "    pass \n",
    "\n",
    "\n",
    "# Question 6\n",
    "q6_score = 0\n",
    "try:\n",
    "    assert(str_to_int(\"3.5\") == 3)\n",
    "    q6_score += 1    \n",
    "    total_score += 1\n",
    "except:\n",
    "    pass\n",
    "try:    \n",
    "    assert(str_to_int(\"-3.5\") == -3)\n",
    "    q6_score += 1    \n",
    "    total_score += 1\n",
    "except:\n",
    "    pass\n",
    "try:    \n",
    "    assert(type(str_to_int(\"-3.5\") ) == int)\n",
    "    q6_score += 1    \n",
    "    total_score += 1\n",
    "except:\n",
    "    pass\n",
    "\n",
    "\n",
    "# Question 7\n",
    "q7_score = 0\n",
    "try:\n",
    "    assert(remove_letters(\"This is my string\", ['t', 's']) == \"Thi i my ring\")\n",
    "    q7_score += 1    \n",
    "    total_score += 1\n",
    "except:\n",
    "    pass\n",
    "try:\n",
    "    assert(remove_letters(\"Robots like Pepper are my favorite\", ['P']) == \"Robots like epper are my favorite\")\n",
    "    q7_score += 1    \n",
    "    total_score += 1\n",
    "except:\n",
    "    pass\n",
    "try:    \n",
    "    assert(remove_letters(\"Robots like Pepper are my favorite\", ['']) == \"Robots like Pepper are my favorite\")\n",
    "    q7_score += 1    \n",
    "    total_score += 1\n",
    "except:\n",
    "    pass\n",
    "\n",
    "# Question 8\n",
    "q8_score = 0\n",
    "try:\n",
    "    assert(round_val(3.5) == 4)\n",
    "    q8_score += 1    \n",
    "    total_score += 1\n",
    "except:\n",
    "    pass\n",
    "try:\n",
    "    assert(round_val(3.1) == 3)\n",
    "    q8_score += 1    \n",
    "    total_score += 1\n",
    "except:\n",
    "    pass\n",
    "try:\n",
    "    assert(round_val(-1.1) == 0)\n",
    "    q8_score += 1    \n",
    "    total_score += 1\n",
    "except:\n",
    "    pass\n",
    "try:\n",
    "    assert(round_val(-1.7) == -1)\n",
    "    q8_score += 1    \n",
    "    total_score += 1\n",
    "except:\n",
    "    pass\n",
    "\n",
    "# Question 9\n",
    "q9_score = 0\n",
    "try:\n",
    "    assert(get_slice(x, 2,4) == [2,3,4]) \n",
    "    q9_score += 1    \n",
    "    total_score += 1\n",
    "except:\n",
    "    pass\n",
    "try:\n",
    "    assert(get_slice(x, 5,6) == [5,6]) \n",
    "    q9_score += 1    \n",
    "    total_score += 1\n",
    "except:\n",
    "    pass\n",
    "try:\n",
    "    assert(get_slice(x, 0,-1) ==[]) \n",
    "    q9_score += 1    \n",
    "    total_score += 1\n",
    "except:\n",
    "    pass\n",
    "\n",
    "# Question 10\n",
    "q10_score = 0\n",
    "try:\n",
    "    a = \"The laws of robotics say that robots should not hurt humans\"\n",
    "    b = \"Humans and robots should be able to exist together under one common set of laws\"\n",
    "    assert(find_common_words(a,b) == \"laws of robots should\")\n",
    "    q10_score += 1    \n",
    "    total_score += 1\n",
    "except:\n",
    "    pass\n",
    "try:    \n",
    "    a = \"sentence1\"\n",
    "    b = \"sentence2\"\n",
    "    assert(find_common_words(a,b) == \"\")\n",
    "    q10_score += 1    \n",
    "    total_score += 1\n",
    "except:\n",
    "    pass\n",
    "\n",
    "# Question 11\n",
    "q11_score = 0\n",
    "try:\n",
    "    assert(beepboop(7) == '12beep4boopbeep')\n",
    "    q11_score += 1    \n",
    "    total_score += 1\n",
    "except:\n",
    "    pass\n",
    "try:\n",
    "    assert(beepboop(20) == '12beep4boopbeep78beepboop11beep1314beepboop1617beep19')\n",
    "    q11_score += 1    \n",
    "    total_score += 1\n",
    "except:\n",
    "    pass\n",
    "\n",
    "# Question 12\n",
    "q12_score = 0\n",
    "try:\n",
    "    assert(get_beginning_of_month(datetime.datetime(2020,5,9)) == '2020-05-01' )\n",
    "    q12_score += 1    \n",
    "    total_score += 1\n",
    "except:\n",
    "    pass\n",
    "try:\n",
    "    assert(get_beginning_of_month(datetime.datetime(2021,1,30)) == '2021-01-01' )\n",
    "    q12_score += 1    \n",
    "    total_score += 1\n",
    "except:\n",
    "    pass\n",
    "\n",
    "# Question 13\n",
    "q13_score = 0\n",
    "try:\n",
    "    assert(lambda_func(2,4) == 16)\n",
    "    q13_score += 1    \n",
    "    total_score += 1\n",
    "except:\n",
    "    pass\n",
    "try:    \n",
    "    assert(lambda_func(2,0) == 1)\n",
    "    q13_score += 1    \n",
    "    total_score += 1\n",
    "except:\n",
    "    pass\n",
    "try:\n",
    "    assert(lambda_func(9,0.5) == 3)\n",
    "    q13_score += 1    \n",
    "    total_score += 1\n",
    "except:\n",
    "    pass"
   ]
  },
  {
   "cell_type": "code",
   "execution_count": null,
   "metadata": {
    "tags": []
   },
   "outputs": [],
   "source": []
  }
 ],
 "metadata": {
  "kernelspec": {
   "name": "python_defaultSpec_1612459548577",
   "display_name": "Python 3.9.0 64-bit",
   "metadata": {
    "interpreter": {
     "hash": "59989645041abe672cb76d7aeaf866814f0a8d66d3cc846ae70aa747439d548b"
    }
   }
  }
 },
 "nbformat": 4,
 "nbformat_minor": 5
}